{
 "cells": [
  {
   "cell_type": "markdown",
   "id": "d9ece46f",
   "metadata": {},
   "source": [
    "# Ambiente"
   ]
  },
  {
   "cell_type": "code",
   "execution_count": 79,
   "id": "37032ce9",
   "metadata": {},
   "outputs": [],
   "source": [
    "import pandas as pd\n",
    "import numpy as np\n",
    "import matplotlib.pyplot as plt\n",
    "import seaborn as sns\n",
    "from sklearn.preprocessing import LabelEncoder"
   ]
  },
  {
   "cell_type": "markdown",
   "id": "3da43ab6",
   "metadata": {},
   "source": [
    "# Carregamento dos Dados"
   ]
  },
  {
   "cell_type": "code",
   "execution_count": 80,
   "id": "ab01cfdc",
   "metadata": {},
   "outputs": [],
   "source": [
    "# Carregar o dataset enviado\n",
    "df = pd.read_csv('https://viagens-ml.s3.sa-east-1.amazonaws.com/dataset_viagens_brasil.csv')"
   ]
  },
  {
   "cell_type": "code",
   "execution_count": 81,
   "id": "50cac30d",
   "metadata": {},
   "outputs": [
    {
     "data": {
      "application/vnd.microsoft.datawrangler.viewer.v0+json": {
       "columns": [
        {
         "name": "index",
         "rawType": "int64",
         "type": "integer"
        },
        {
         "name": "Idade",
         "rawType": "float64",
         "type": "float"
        },
        {
         "name": "Cidade_Origem",
         "rawType": "object",
         "type": "string"
        },
        {
         "name": "Custo_Desejado",
         "rawType": "float64",
         "type": "float"
        },
        {
         "name": "Prefere_Praia",
         "rawType": "object",
         "type": "string"
        },
        {
         "name": "Prefere_Natureza",
         "rawType": "float64",
         "type": "float"
        },
        {
         "name": "Prefere_Cultura",
         "rawType": "object",
         "type": "string"
        },
        {
         "name": "Prefere_Festas",
         "rawType": "float64",
         "type": "float"
        },
        {
         "name": "Prefere_Gastronomia",
         "rawType": "float64",
         "type": "float"
        },
        {
         "name": "Prefere_Compras",
         "rawType": "object",
         "type": "string"
        },
        {
         "name": "Cidade_Destino",
         "rawType": "object",
         "type": "string"
        }
       ],
       "ref": "b09c049c-9e76-46d7-a35d-8922a61d83a5",
       "rows": [
        [
         "0",
         "23.0",
         "Campo Grande",
         "9000.0",
         "4",
         "3.0",
         "1",
         "5.0",
         "1.0",
         "3",
         "Porto Seguro"
        ],
        [
         "1",
         "33.0",
         "Rio Branco",
         null,
         "4",
         "5.0",
         "3",
         "5.0",
         "5.0",
         "5",
         "Balneário Camboriú"
        ],
        [
         "2",
         "46.0",
         "Rio Branco",
         "2900.0",
         "5",
         "4.0",
         "5",
         "4.0",
         "2.0",
         "2",
         "Porto Seguro"
        ],
        [
         "3",
         "20.0",
         "São Luís",
         "2900.0",
         "5",
         "3.0",
         "4",
         "3.0",
         "5.0",
         "4",
         "Porto Seguro"
        ],
        [
         "4",
         "37.0",
         "Teresina",
         "1700.0",
         "3",
         "3.0",
         "4",
         "2.0",
         "1.0",
         "1",
         "Fernando de Noronha"
        ]
       ],
       "shape": {
        "columns": 10,
        "rows": 5
       }
      },
      "text/html": [
       "<div>\n",
       "<style scoped>\n",
       "    .dataframe tbody tr th:only-of-type {\n",
       "        vertical-align: middle;\n",
       "    }\n",
       "\n",
       "    .dataframe tbody tr th {\n",
       "        vertical-align: top;\n",
       "    }\n",
       "\n",
       "    .dataframe thead th {\n",
       "        text-align: right;\n",
       "    }\n",
       "</style>\n",
       "<table border=\"1\" class=\"dataframe\">\n",
       "  <thead>\n",
       "    <tr style=\"text-align: right;\">\n",
       "      <th></th>\n",
       "      <th>Idade</th>\n",
       "      <th>Cidade_Origem</th>\n",
       "      <th>Custo_Desejado</th>\n",
       "      <th>Prefere_Praia</th>\n",
       "      <th>Prefere_Natureza</th>\n",
       "      <th>Prefere_Cultura</th>\n",
       "      <th>Prefere_Festas</th>\n",
       "      <th>Prefere_Gastronomia</th>\n",
       "      <th>Prefere_Compras</th>\n",
       "      <th>Cidade_Destino</th>\n",
       "    </tr>\n",
       "  </thead>\n",
       "  <tbody>\n",
       "    <tr>\n",
       "      <th>0</th>\n",
       "      <td>23.0</td>\n",
       "      <td>Campo Grande</td>\n",
       "      <td>9000.0</td>\n",
       "      <td>4</td>\n",
       "      <td>3.0</td>\n",
       "      <td>1</td>\n",
       "      <td>5.0</td>\n",
       "      <td>1.0</td>\n",
       "      <td>3</td>\n",
       "      <td>Porto Seguro</td>\n",
       "    </tr>\n",
       "    <tr>\n",
       "      <th>1</th>\n",
       "      <td>33.0</td>\n",
       "      <td>Rio Branco</td>\n",
       "      <td>NaN</td>\n",
       "      <td>4</td>\n",
       "      <td>5.0</td>\n",
       "      <td>3</td>\n",
       "      <td>5.0</td>\n",
       "      <td>5.0</td>\n",
       "      <td>5</td>\n",
       "      <td>Balneário Camboriú</td>\n",
       "    </tr>\n",
       "    <tr>\n",
       "      <th>2</th>\n",
       "      <td>46.0</td>\n",
       "      <td>Rio Branco</td>\n",
       "      <td>2900.0</td>\n",
       "      <td>5</td>\n",
       "      <td>4.0</td>\n",
       "      <td>5</td>\n",
       "      <td>4.0</td>\n",
       "      <td>2.0</td>\n",
       "      <td>2</td>\n",
       "      <td>Porto Seguro</td>\n",
       "    </tr>\n",
       "    <tr>\n",
       "      <th>3</th>\n",
       "      <td>20.0</td>\n",
       "      <td>São Luís</td>\n",
       "      <td>2900.0</td>\n",
       "      <td>5</td>\n",
       "      <td>3.0</td>\n",
       "      <td>4</td>\n",
       "      <td>3.0</td>\n",
       "      <td>5.0</td>\n",
       "      <td>4</td>\n",
       "      <td>Porto Seguro</td>\n",
       "    </tr>\n",
       "    <tr>\n",
       "      <th>4</th>\n",
       "      <td>37.0</td>\n",
       "      <td>Teresina</td>\n",
       "      <td>1700.0</td>\n",
       "      <td>3</td>\n",
       "      <td>3.0</td>\n",
       "      <td>4</td>\n",
       "      <td>2.0</td>\n",
       "      <td>1.0</td>\n",
       "      <td>1</td>\n",
       "      <td>Fernando de Noronha</td>\n",
       "    </tr>\n",
       "  </tbody>\n",
       "</table>\n",
       "</div>"
      ],
      "text/plain": [
       "   Idade Cidade_Origem  Custo_Desejado Prefere_Praia  Prefere_Natureza  \\\n",
       "0   23.0  Campo Grande          9000.0             4               3.0   \n",
       "1   33.0    Rio Branco             NaN             4               5.0   \n",
       "2   46.0    Rio Branco          2900.0             5               4.0   \n",
       "3   20.0      São Luís          2900.0             5               3.0   \n",
       "4   37.0      Teresina          1700.0             3               3.0   \n",
       "\n",
       "  Prefere_Cultura  Prefere_Festas  Prefere_Gastronomia Prefere_Compras  \\\n",
       "0               1             5.0                  1.0               3   \n",
       "1               3             5.0                  5.0               5   \n",
       "2               5             4.0                  2.0               2   \n",
       "3               4             3.0                  5.0               4   \n",
       "4               4             2.0                  1.0               1   \n",
       "\n",
       "        Cidade_Destino  \n",
       "0         Porto Seguro  \n",
       "1   Balneário Camboriú  \n",
       "2         Porto Seguro  \n",
       "3         Porto Seguro  \n",
       "4  Fernando de Noronha  "
      ]
     },
     "execution_count": 81,
     "metadata": {},
     "output_type": "execute_result"
    }
   ],
   "source": [
    "df.head()"
   ]
  },
  {
   "cell_type": "code",
   "execution_count": 82,
   "id": "d5cee1f7",
   "metadata": {},
   "outputs": [
    {
     "name": "stdout",
     "output_type": "stream",
     "text": [
      "Idade                  float64\n",
      "Cidade_Origem           object\n",
      "Custo_Desejado         float64\n",
      "Prefere_Praia           object\n",
      "Prefere_Natureza       float64\n",
      "Prefere_Cultura         object\n",
      "Prefere_Festas         float64\n",
      "Prefere_Gastronomia    float64\n",
      "Prefere_Compras         object\n",
      "Cidade_Destino          object\n",
      "dtype: object\n"
     ]
    }
   ],
   "source": [
    "# Tipos de Dados das Colunas\n",
    "print(df.dtypes)"
   ]
  },
  {
   "cell_type": "code",
   "execution_count": 83,
   "id": "0a06e448",
   "metadata": {},
   "outputs": [
    {
     "name": "stdout",
     "output_type": "stream",
     "text": [
      "Idade                  497\n",
      "Cidade_Origem            0\n",
      "Custo_Desejado         497\n",
      "Prefere_Praia            0\n",
      "Prefere_Natureza       400\n",
      "Prefere_Cultura          0\n",
      "Prefere_Festas         400\n",
      "Prefere_Gastronomia    400\n",
      "Prefere_Compras          0\n",
      "Cidade_Destino           0\n",
      "dtype: int64\n"
     ]
    }
   ],
   "source": [
    "# Valores nulos por coluna\n",
    "print(df.isnull().sum())"
   ]
  },
  {
   "cell_type": "code",
   "execution_count": 84,
   "id": "ba4900ba",
   "metadata": {},
   "outputs": [
    {
     "name": "stdout",
     "output_type": "stream",
     "text": [
      "Valores únicos em 'Idade':\n",
      "[ 23.  33.  46.  20.  37.  53.  36.  43.  49.  24.  69.  58.  50.  57.\n",
      "  56.  35. 190.  28.  45.  42.  67.  40.  48.  47.  59.  52.  nan  65.\n",
      "  66.  19.  18.  29.  22.  54.  26.  41.  25.  55.  63.  21.  31.  38.\n",
      "  34.  39.  62.  68.  44.  51.  64.  61.  70.  60.  30.  32.  27.]\n",
      "----\n",
      "Valores únicos em 'Cidade_Origem':\n",
      "['Campo Grande' 'Rio Branco' 'São Luís' 'Teresina' 'João Pessoa' 'Maceió'\n",
      " 'Recife' 'Vitória' 'Porto Velho' 'Aracaju' 'Goiânia' 'Porto Alegre'\n",
      " 'Natal' 'Cuiabá' 'Fortaleza' 'Florianópolis' 'Belém' 'Brasília'\n",
      " 'Boa Vista' 'Curitiba' 'Rio de Janeiro' 'Macapá' 'Manaus' 'São Paulo'\n",
      " 'Palmas' 'Salvador' 'Belo Horizonte']\n",
      "----\n",
      "Valores únicos em 'Custo_Desejado':\n",
      "[  9000.     nan   2900.   1700.   7100.   2200.   5200.   4400.   3500.\n",
      "   3100.   9400.   5700.  10300.   2800.   4900.   2500.   9600.   5800.\n",
      "   3400.  15200.   3200.   1300.   5100. 400000.   7000.   3000.  11000.\n",
      "  11900.   2700.   3800.   4600.   5400.   6200.  12100.   4000.   5300.\n",
      "   2400.   1200.   2600.  14200.   6100.  10700.   8700.   4700.   6800.\n",
      "   4300.   3700.  10500.   3900.   1400.   6600.   7300.   4100.  11200.\n",
      "   1800.  12700.   9200.   4800.   3300.   2100.   8500.   6000.   5900.\n",
      "   6700.   8300.   2300.   7600.   4200.   7400.   4500.   5500.   6400.\n",
      "   3600.   5000.  10900.   7500.   2000.   7800.   8100.   6300.   8900.\n",
      "   7700.   8600.   6500.   6900.   5600.   9700.   9100.   7900.   1100.\n",
      "   8800.  10600.  13800.   8200.   9900.   1500.   1600.   9800.  16700.\n",
      "  13500.  18600.  13000.  15100.  10400.  10200.  15000.   9500.   9300.\n",
      "  16000.  10000.  15300.  10800.  19200.  10100.   8000.   1900.  11700.\n",
      "  14300.   7200.  20000.  11800.  14600.   8400.  11400.  12000.  12800.\n",
      "  14000.  17300.  13100.  11300.  16300.  14700.  14900.  11600.  16500.\n",
      "  12500.  11500.  14100.  11100.  13900.  16100.  18400.  13600.  13700.\n",
      "  18100.  12600.  13400.  15600.  12300.  13200.  12400.   1000.  14800.\n",
      "  12900.  14400.  17200.  15800.  16200.  16800.  19100.  17400.  13300.\n",
      "  19700.  17500.  12200.  18500.  15700.  15900.  15500.  16600.  17000.\n",
      "  18800.  17600.  17800.  18200.  19300.  15400.  17900.  17100.  18000.\n",
      "  14500.  16900.  17700.  16400.  18300.  19500.  19600.]\n",
      "----\n",
      "Valores únicos em 'Prefere_Praia':\n",
      "['4' '5' '3' '2' '1' 'erro']\n",
      "----\n",
      "Valores únicos em 'Prefere_Natureza':\n",
      "[ 3.  5.  4.  1.  2. nan]\n",
      "----\n",
      "Valores únicos em 'Prefere_Cultura':\n",
      "['1' '3' '5' '4' '2' 'cinco']\n",
      "----\n",
      "Valores únicos em 'Prefere_Festas':\n",
      "[ 5.  4.  3.  2.  1. nan]\n",
      "----\n",
      "Valores únicos em 'Prefere_Gastronomia':\n",
      "[ 1.  5.  2.  4.  3. nan]\n",
      "----\n",
      "Valores únicos em 'Prefere_Compras':\n",
      "['3' '5' '2' '4' '1' 'cinco']\n",
      "----\n",
      "Valores únicos em 'Cidade_Destino':\n",
      "['Porto Seguro' 'Balneário Camboriú' 'Fernando de Noronha' 'João Pessoa'\n",
      " 'Jericoacoara' 'Macapá' 'Aracaju' 'Gramado' 'Campo Grande' 'Paraty'\n",
      " 'Campos do Jordão' 'Porto Alegre' 'Petrópolis' 'Boa Vista' 'Belém'\n",
      " 'Foz do Iguaçu' 'Fortaleza' 'Belo Horizonte' 'São Paulo' 'Tiradentes'\n",
      " 'Rio Branco' 'Cuiabá' 'Ouro Preto' 'Vitória' 'Salvador' 'Bonito']\n",
      "----\n"
     ]
    }
   ],
   "source": [
    "# Valores únicos por coluna\n",
    "for col in df.columns:\n",
    "    print(f\"Valores únicos em '{col}':\")\n",
    "    print(df[col].unique())\n",
    "    print(\"----\")"
   ]
  },
  {
   "cell_type": "markdown",
   "id": "b8a2ea12",
   "metadata": {},
   "source": [
    "# Tratamento dos Dados"
   ]
  },
  {
   "cell_type": "markdown",
   "id": "aafa04ad",
   "metadata": {},
   "source": [
    "## Tratamento de Valores Sabotados"
   ]
  },
  {
   "cell_type": "markdown",
   "id": "df7b83cc",
   "metadata": {},
   "source": [
    "### Tratamento de Valores Sabotados nas Colunas `Prefere_`"
   ]
  },
  {
   "cell_type": "code",
   "execution_count": 85,
   "id": "af9f69be",
   "metadata": {},
   "outputs": [
    {
     "name": "stdout",
     "output_type": "stream",
     "text": [
      "Número de ocorrências de 'erro' em 'Prefere_Praia': 400\n"
     ]
    }
   ],
   "source": [
    "# Contagem de quantos 'erro' existem na coluna 'Prefere_Praia'\n",
    "num_erros = df['Prefere_Praia'].value_counts().get('erro', 0)\n",
    "print(f\"Número de ocorrências de 'erro' em 'Prefere_Praia': {num_erros}\")"
   ]
  },
  {
   "cell_type": "code",
   "execution_count": 86,
   "id": "04bc0bfc",
   "metadata": {},
   "outputs": [
    {
     "name": "stdout",
     "output_type": "stream",
     "text": [
      "Número de ocorrências de 'cinco' em 'Prefere_Cultura': 400\n"
     ]
    }
   ],
   "source": [
    "# Contagem de qauntos 'cinco' existem na coluna 'Prefere_Cultura'\n",
    "num_cinco = df['Prefere_Cultura'].value_counts().get('cinco', 0)\n",
    "print(f\"Número de ocorrências de 'cinco' em 'Prefere_Cultura': {num_cinco}\")"
   ]
  },
  {
   "cell_type": "code",
   "execution_count": 87,
   "id": "c587030e",
   "metadata": {},
   "outputs": [
    {
     "name": "stdout",
     "output_type": "stream",
     "text": [
      "\n",
      "Frequência em 'Prefere_Praia':\n",
      "Prefere_Praia\n",
      "5       3996\n",
      "1       3930\n",
      "2       3908\n",
      "3       3888\n",
      "4       3878\n",
      "erro     400\n",
      "Name: count, dtype: int64\n",
      "\n",
      "Frequência em 'Prefere_Natureza':\n",
      "Prefere_Natureza\n",
      "5.0    3960\n",
      "2.0    3937\n",
      "1.0    3915\n",
      "4.0    3908\n",
      "3.0    3880\n",
      "NaN     400\n",
      "Name: count, dtype: int64\n",
      "\n",
      "Frequência em 'Prefere_Cultura':\n",
      "Prefere_Cultura\n",
      "2        4016\n",
      "5        3941\n",
      "3        3889\n",
      "1        3885\n",
      "4        3869\n",
      "cinco     400\n",
      "Name: count, dtype: int64\n",
      "\n",
      "Frequência em 'Prefere_Festas':\n",
      "Prefere_Festas\n",
      "4.0    3966\n",
      "1.0    3945\n",
      "3.0    3926\n",
      "2.0    3892\n",
      "5.0    3871\n",
      "NaN     400\n",
      "Name: count, dtype: int64\n",
      "\n",
      "Frequência em 'Prefere_Gastronomia':\n",
      "Prefere_Gastronomia\n",
      "2.0    3981\n",
      "1.0    3925\n",
      "3.0    3913\n",
      "5.0    3902\n",
      "4.0    3879\n",
      "NaN     400\n",
      "Name: count, dtype: int64\n",
      "\n",
      "Frequência em 'Prefere_Compras':\n",
      "Prefere_Compras\n",
      "2        4026\n",
      "4        3944\n",
      "5        3917\n",
      "3        3876\n",
      "1        3837\n",
      "cinco     400\n",
      "Name: count, dtype: int64\n"
     ]
    }
   ],
   "source": [
    "# Gera a lista de colunas que começam com \"Prefere_\"\n",
    "cols_prefere = [col for col in df.columns if col.startswith(\"Prefere_\")]\n",
    "\n",
    "for col in cols_prefere:\n",
    "    print(f\"\\nFrequência em '{col}':\")\n",
    "    print(df[col].value_counts(dropna=False))  "
   ]
  },
  {
   "cell_type": "code",
   "execution_count": 88,
   "id": "d8ebb504",
   "metadata": {},
   "outputs": [
    {
     "name": "stdout",
     "output_type": "stream",
     "text": [
      "Prefere_Praia: Int32, valores únicos: <IntegerArray>\n",
      "[4, 5, 3, 2, 1, <NA>]\n",
      "Length: 6, dtype: Int32\n",
      "Prefere_Natureza: Int32, valores únicos: <IntegerArray>\n",
      "[3, 5, 4, 1, 2, <NA>]\n",
      "Length: 6, dtype: Int32\n",
      "Prefere_Cultura: Int32, valores únicos: <IntegerArray>\n",
      "[1, 3, 5, 4, 2]\n",
      "Length: 5, dtype: Int32\n",
      "Prefere_Festas: Int32, valores únicos: <IntegerArray>\n",
      "[5, 4, 3, 2, 1, <NA>]\n",
      "Length: 6, dtype: Int32\n",
      "Prefere_Gastronomia: Int32, valores únicos: <IntegerArray>\n",
      "[1, 5, 2, 4, 3, <NA>]\n",
      "Length: 6, dtype: Int32\n",
      "Prefere_Compras: Int32, valores únicos: <IntegerArray>\n",
      "[3, 5, 2, 4, 1]\n",
      "Length: 5, dtype: Int32\n"
     ]
    }
   ],
   "source": [
    "for col in cols_prefere:\n",
    "    # substitui \"cinco\" por 5 e \"erro\" por NaN\n",
    "    df[col] = df[col].replace({'cinco': '5', 'erro': np.nan})\n",
    "\n",
    "    # Converte para numérico (garante que '1', '2'... virem inteiros)\n",
    "    df[col] = pd.to_numeric(df[col], errors='coerce')\n",
    "\n",
    "    # Converte para inteiro\n",
    "    df[col] = df[col].astype('Int32')\n",
    "    \n",
    "    # Mostra tipo final e valores únicos\n",
    "    print(f\"{col}: {df[col].dtype}, valores únicos: {df[col].unique()}\")"
   ]
  },
  {
   "cell_type": "code",
   "execution_count": 89,
   "id": "e4f5327a",
   "metadata": {},
   "outputs": [
    {
     "name": "stdout",
     "output_type": "stream",
     "text": [
      "\n",
      "Frequência em 'Prefere_Praia':\n",
      "Prefere_Praia\n",
      "5       3996\n",
      "1       3930\n",
      "2       3908\n",
      "3       3888\n",
      "4       3878\n",
      "<NA>     400\n",
      "Name: count, dtype: Int64\n",
      "\n",
      "Frequência em 'Prefere_Natureza':\n",
      "Prefere_Natureza\n",
      "5       3960\n",
      "2       3937\n",
      "1       3915\n",
      "4       3908\n",
      "3       3880\n",
      "<NA>     400\n",
      "Name: count, dtype: Int64\n",
      "\n",
      "Frequência em 'Prefere_Cultura':\n",
      "Prefere_Cultura\n",
      "5    4341\n",
      "2    4016\n",
      "3    3889\n",
      "1    3885\n",
      "4    3869\n",
      "Name: count, dtype: Int64\n",
      "\n",
      "Frequência em 'Prefere_Festas':\n",
      "Prefere_Festas\n",
      "4       3966\n",
      "1       3945\n",
      "3       3926\n",
      "2       3892\n",
      "5       3871\n",
      "<NA>     400\n",
      "Name: count, dtype: Int64\n",
      "\n",
      "Frequência em 'Prefere_Gastronomia':\n",
      "Prefere_Gastronomia\n",
      "2       3981\n",
      "1       3925\n",
      "3       3913\n",
      "5       3902\n",
      "4       3879\n",
      "<NA>     400\n",
      "Name: count, dtype: Int64\n",
      "\n",
      "Frequência em 'Prefere_Compras':\n",
      "Prefere_Compras\n",
      "5    4317\n",
      "2    4026\n",
      "4    3944\n",
      "3    3876\n",
      "1    3837\n",
      "Name: count, dtype: Int64\n"
     ]
    }
   ],
   "source": [
    "for col in cols_prefere:\n",
    "    print(f\"\\nFrequência em '{col}':\")\n",
    "    print(df[col].value_counts(dropna=False))"
   ]
  },
  {
   "cell_type": "markdown",
   "id": "566ae53f",
   "metadata": {},
   "source": [
    "## Tratamento de Outliers"
   ]
  },
  {
   "cell_type": "code",
   "execution_count": 90,
   "id": "9ced54c2",
   "metadata": {},
   "outputs": [
    {
     "data": {
      "image/png": "[encoded data removed]",
      "text/plain": [
       "<Figure size 1000x500 with 1 Axes>"
      ]
     },
     "metadata": {},
     "output_type": "display_data"
    },
    {
     "data": {
      "image/png": "[encoded data removed]",
      "text/plain": [
       "<Figure size 1000x500 with 1 Axes>"
      ]
     },
     "metadata": {},
     "output_type": "display_data"
    }
   ],
   "source": [
    "for col in df.select_dtypes(include=['float64']).columns:\n",
    "    plt.figure(figsize=(10, 5))\n",
    "    sns.boxplot(data=df, x=df[col], y='Cidade_Destino')\n",
    "    plt.title(f\"Boxplot de {col}\")\n",
    "    plt.show()"
   ]
  },
  {
   "cell_type": "code",
   "execution_count": 91,
   "id": "69c4eb60",
   "metadata": {},
   "outputs": [
    {
     "data": {
      "application/vnd.microsoft.datawrangler.viewer.v0+json": {
       "columns": [
        {
         "name": "index",
         "rawType": "object",
         "type": "string"
        },
        {
         "name": "0",
         "rawType": "int64",
         "type": "integer"
        }
       ],
       "ref": "90fc4b31-04ff-49d6-86a1-020b773b6951",
       "rows": [
        [
         "Idade",
         "497"
        ],
        [
         "Cidade_Origem",
         "0"
        ],
        [
         "Custo_Desejado",
         "497"
        ],
        [
         "Prefere_Praia",
         "400"
        ],
        [
         "Prefere_Natureza",
         "400"
        ],
        [
         "Prefere_Cultura",
         "0"
        ],
        [
         "Prefere_Festas",
         "400"
        ],
        [
         "Prefere_Gastronomia",
         "400"
        ],
        [
         "Prefere_Compras",
         "0"
        ],
        [
         "Cidade_Destino",
         "0"
        ]
       ],
       "shape": {
        "columns": 1,
        "rows": 10
       }
      },
      "text/plain": [
       "Idade                  497\n",
       "Cidade_Origem            0\n",
       "Custo_Desejado         497\n",
       "Prefere_Praia          400\n",
       "Prefere_Natureza       400\n",
       "Prefere_Cultura          0\n",
       "Prefere_Festas         400\n",
       "Prefere_Gastronomia    400\n",
       "Prefere_Compras          0\n",
       "Cidade_Destino           0\n",
       "dtype: int64"
      ]
     },
     "execution_count": 91,
     "metadata": {},
     "output_type": "execute_result"
    }
   ],
   "source": [
    "# Contagem de valores nulos antes de tratamento de outliers\n",
    "df.isnull().sum()"
   ]
  },
  {
   "cell_type": "code",
   "execution_count": 92,
   "id": "f9dff86f",
   "metadata": {},
   "outputs": [],
   "source": [
    "def handle_outliers_by_target(df, column, hard_lim_sup: float):\n",
    "    # Cria uma dataframe vazio para concatenar os dados tratados\n",
    "    outliers_filled = pd.DataFrame()\n",
    "\n",
    "    for city in df['Cidade_Destino'].unique():\n",
    "        # Filtra os dados da cidade com base no df base\n",
    "        df_city_data = df[df['Cidade_Destino'] == city].copy()\n",
    "\n",
    "        # Identifica os outliers com base no limite fornecido ou IQR\n",
    "        outliers = df_city_data[df_city_data[column] > hard_lim_sup]\n",
    "\n",
    "        # Remove os outliers do df da cidade\n",
    "        df_city_data = df_city_data.drop(outliers.index)\n",
    "    \n",
    "        # Calcula a média da coluna para a cidade\n",
    "        fill_value = int(df_city_data[column].mean())\n",
    "    \n",
    "        # Substitui os valores outliers pela média\n",
    "        outliers.loc[:, column] = fill_value\n",
    "\n",
    "        # Concatena os dados tratados\n",
    "        outliers_filled = pd.concat([outliers_filled, outliers], axis=0)\n",
    "\n",
    "        # Remove os outliers do df principal\n",
    "        df = df.drop(outliers.index)\n",
    "    \n",
    "    # Adiciona de volta os registros tratados\n",
    "    df = pd.concat([df, outliers_filled], axis=0).sort_index()\n",
    "\n",
    "    # Retorna DataFrame atualizado\n",
    "    return df   "
   ]
  },
  {
   "cell_type": "markdown",
   "id": "878b8d11",
   "metadata": {},
   "source": [
    "### Aplicando o Tratamento de Outliers na Coluna `Idade`"
   ]
  },
  {
   "cell_type": "code",
   "execution_count": 93,
   "id": "73f33e96",
   "metadata": {},
   "outputs": [
    {
     "data": {
      "application/vnd.microsoft.datawrangler.viewer.v0+json": {
       "columns": [
        {
         "name": "index",
         "rawType": "int64",
         "type": "integer"
        },
        {
         "name": "Idade",
         "rawType": "float64",
         "type": "float"
        },
        {
         "name": "Cidade_Destino",
         "rawType": "object",
         "type": "string"
        }
       ],
       "ref": "96779d7c-48d5-4d98-98a7-a4b77f0ecd16",
       "rows": [
        [
         "20",
         "190.0",
         "Balneário Camboriú"
        ],
        [
         "31",
         "190.0",
         "Porto Seguro"
        ],
        [
         "66",
         "190.0",
         "Jericoacoara"
        ],
        [
         "93",
         "190.0",
         "Campos do Jordão"
        ],
        [
         "168",
         "190.0",
         "Macapá"
        ],
        [
         "200",
         "190.0",
         "Campo Grande"
        ],
        [
         "293",
         "190.0",
         "Jericoacoara"
        ],
        [
         "438",
         "190.0",
         "Porto Seguro"
        ],
        [
         "506",
         "190.0",
         "Balneário Camboriú"
        ],
        [
         "592",
         "190.0",
         "Paraty"
        ],
        [
         "603",
         "190.0",
         "João Pessoa"
        ],
        [
         "696",
         "190.0",
         "João Pessoa"
        ],
        [
         "976",
         "190.0",
         "Paraty"
        ],
        [
         "998",
         "190.0",
         "Jericoacoara"
        ],
        [
         "999",
         "190.0",
         "Macapá"
        ],
        [
         "1094",
         "190.0",
         "Porto Seguro"
        ],
        [
         "1100",
         "190.0",
         "Jericoacoara"
        ],
        [
         "1239",
         "190.0",
         "Macapá"
        ],
        [
         "1444",
         "190.0",
         "Balneário Camboriú"
        ],
        [
         "1453",
         "190.0",
         "Campo Grande"
        ],
        [
         "1456",
         "190.0",
         "Macapá"
        ],
        [
         "1459",
         "190.0",
         "João Pessoa"
        ],
        [
         "1468",
         "190.0",
         "Aracaju"
        ],
        [
         "1583",
         "190.0",
         "Macapá"
        ],
        [
         "1601",
         "190.0",
         "Gramado"
        ],
        [
         "1605",
         "190.0",
         "João Pessoa"
        ],
        [
         "1640",
         "190.0",
         "Jericoacoara"
        ],
        [
         "1765",
         "190.0",
         "Jericoacoara"
        ],
        [
         "1847",
         "190.0",
         "Jericoacoara"
        ],
        [
         "1903",
         "190.0",
         "Porto Seguro"
        ],
        [
         "1966",
         "190.0",
         "Jericoacoara"
        ],
        [
         "1993",
         "190.0",
         "Paraty"
        ],
        [
         "2226",
         "190.0",
         "Jericoacoara"
        ],
        [
         "2324",
         "190.0",
         "Paraty"
        ],
        [
         "2427",
         "190.0",
         "Paraty"
        ],
        [
         "2483",
         "190.0",
         "Macapá"
        ],
        [
         "2517",
         "190.0",
         "Foz do Iguaçu"
        ],
        [
         "2528",
         "190.0",
         "Macapá"
        ],
        [
         "2567",
         "190.0",
         "Paraty"
        ],
        [
         "2717",
         "190.0",
         "João Pessoa"
        ],
        [
         "2830",
         "190.0",
         "Paraty"
        ],
        [
         "2877",
         "190.0",
         "Macapá"
        ],
        [
         "2888",
         "190.0",
         "Macapá"
        ],
        [
         "2937",
         "190.0",
         "João Pessoa"
        ],
        [
         "2972",
         "190.0",
         "Macapá"
        ],
        [
         "3092",
         "190.0",
         "Jericoacoara"
        ],
        [
         "3204",
         "190.0",
         "Paraty"
        ],
        [
         "3302",
         "190.0",
         "Porto Seguro"
        ],
        [
         "3339",
         "190.0",
         "Campo Grande"
        ],
        [
         "3382",
         "190.0",
         "Aracaju"
        ]
       ],
       "shape": {
        "columns": 2,
        "rows": 200
       }
      },
      "text/html": [
       "<div>\n",
       "<style scoped>\n",
       "    .dataframe tbody tr th:only-of-type {\n",
       "        vertical-align: middle;\n",
       "    }\n",
       "\n",
       "    .dataframe tbody tr th {\n",
       "        vertical-align: top;\n",
       "    }\n",
       "\n",
       "    .dataframe thead th {\n",
       "        text-align: right;\n",
       "    }\n",
       "</style>\n",
       "<table border=\"1\" class=\"dataframe\">\n",
       "  <thead>\n",
       "    <tr style=\"text-align: right;\">\n",
       "      <th></th>\n",
       "      <th>Idade</th>\n",
       "      <th>Cidade_Destino</th>\n",
       "    </tr>\n",
       "  </thead>\n",
       "  <tbody>\n",
       "    <tr>\n",
       "      <th>20</th>\n",
       "      <td>190.0</td>\n",
       "      <td>Balneário Camboriú</td>\n",
       "    </tr>\n",
       "    <tr>\n",
       "      <th>31</th>\n",
       "      <td>190.0</td>\n",
       "      <td>Porto Seguro</td>\n",
       "    </tr>\n",
       "    <tr>\n",
       "      <th>66</th>\n",
       "      <td>190.0</td>\n",
       "      <td>Jericoacoara</td>\n",
       "    </tr>\n",
       "    <tr>\n",
       "      <th>93</th>\n",
       "      <td>190.0</td>\n",
       "      <td>Campos do Jordão</td>\n",
       "    </tr>\n",
       "    <tr>\n",
       "      <th>168</th>\n",
       "      <td>190.0</td>\n",
       "      <td>Macapá</td>\n",
       "    </tr>\n",
       "    <tr>\n",
       "      <th>...</th>\n",
       "      <td>...</td>\n",
       "      <td>...</td>\n",
       "    </tr>\n",
       "    <tr>\n",
       "      <th>19677</th>\n",
       "      <td>190.0</td>\n",
       "      <td>Paraty</td>\n",
       "    </tr>\n",
       "    <tr>\n",
       "      <th>19700</th>\n",
       "      <td>190.0</td>\n",
       "      <td>Macapá</td>\n",
       "    </tr>\n",
       "    <tr>\n",
       "      <th>19712</th>\n",
       "      <td>190.0</td>\n",
       "      <td>Jericoacoara</td>\n",
       "    </tr>\n",
       "    <tr>\n",
       "      <th>19860</th>\n",
       "      <td>190.0</td>\n",
       "      <td>Porto Seguro</td>\n",
       "    </tr>\n",
       "    <tr>\n",
       "      <th>19984</th>\n",
       "      <td>190.0</td>\n",
       "      <td>Porto Seguro</td>\n",
       "    </tr>\n",
       "  </tbody>\n",
       "</table>\n",
       "<p>200 rows × 2 columns</p>\n",
       "</div>"
      ],
      "text/plain": [
       "       Idade      Cidade_Destino\n",
       "20     190.0  Balneário Camboriú\n",
       "31     190.0        Porto Seguro\n",
       "66     190.0        Jericoacoara\n",
       "93     190.0    Campos do Jordão\n",
       "168    190.0              Macapá\n",
       "...      ...                 ...\n",
       "19677  190.0              Paraty\n",
       "19700  190.0              Macapá\n",
       "19712  190.0        Jericoacoara\n",
       "19860  190.0        Porto Seguro\n",
       "19984  190.0        Porto Seguro\n",
       "\n",
       "[200 rows x 2 columns]"
      ]
     },
     "execution_count": 93,
     "metadata": {},
     "output_type": "execute_result"
    }
   ],
   "source": [
    "df[df['Idade'] > 100][['Idade', 'Cidade_Destino']]"
   ]
  },
  {
   "cell_type": "code",
   "execution_count": 94,
   "id": "d8efabab",
   "metadata": {},
   "outputs": [],
   "source": [
    "df = handle_outliers_by_target(df, 'Idade', hard_lim_sup=100)"
   ]
  },
  {
   "cell_type": "code",
   "execution_count": 95,
   "id": "bf419cc2",
   "metadata": {},
   "outputs": [
    {
     "data": {
      "application/vnd.microsoft.datawrangler.viewer.v0+json": {
       "columns": [
        {
         "name": "index",
         "rawType": "int64",
         "type": "integer"
        },
        {
         "name": "Idade",
         "rawType": "float64",
         "type": "float"
        },
        {
         "name": "Cidade_Destino",
         "rawType": "object",
         "type": "string"
        }
       ],
       "ref": "db50adef-5f9d-4480-ada1-4d47d05fa509",
       "rows": [],
       "shape": {
        "columns": 2,
        "rows": 0
       }
      },
      "text/html": [
       "<div>\n",
       "<style scoped>\n",
       "    .dataframe tbody tr th:only-of-type {\n",
       "        vertical-align: middle;\n",
       "    }\n",
       "\n",
       "    .dataframe tbody tr th {\n",
       "        vertical-align: top;\n",
       "    }\n",
       "\n",
       "    .dataframe thead th {\n",
       "        text-align: right;\n",
       "    }\n",
       "</style>\n",
       "<table border=\"1\" class=\"dataframe\">\n",
       "  <thead>\n",
       "    <tr style=\"text-align: right;\">\n",
       "      <th></th>\n",
       "      <th>Idade</th>\n",
       "      <th>Cidade_Destino</th>\n",
       "    </tr>\n",
       "  </thead>\n",
       "  <tbody>\n",
       "  </tbody>\n",
       "</table>\n",
       "</div>"
      ],
      "text/plain": [
       "Empty DataFrame\n",
       "Columns: [Idade, Cidade_Destino]\n",
       "Index: []"
      ]
     },
     "execution_count": 95,
     "metadata": {},
     "output_type": "execute_result"
    }
   ],
   "source": [
    "df[df['Idade'] > 100][['Idade', 'Cidade_Destino']]"
   ]
  },
  {
   "cell_type": "code",
   "execution_count": 96,
   "id": "6a7b58bf",
   "metadata": {},
   "outputs": [
    {
     "data": {
      "image/png": "[encoded data removed]",
      "text/plain": [
       "<Figure size 1200x600 with 1 Axes>"
      ]
     },
     "metadata": {},
     "output_type": "display_data"
    }
   ],
   "source": [
    "plt.figure(figsize=(12, 6))\n",
    "sns.boxplot(data=df, x=\"Idade\", y=\"Cidade_Destino\")\n",
    "plt.title(\"Boxplot de Idade após tratamento de outliers\")\n",
    "plt.show()"
   ]
  },
  {
   "cell_type": "markdown",
   "id": "b9e6baf9",
   "metadata": {},
   "source": [
    "### Aplicando o Tratamento de Outliers na Coluna `Custo_Desejado`"
   ]
  },
  {
   "cell_type": "code",
   "execution_count": 97,
   "id": "1d43d5e7",
   "metadata": {},
   "outputs": [
    {
     "data": {
      "application/vnd.microsoft.datawrangler.viewer.v0+json": {
       "columns": [
        {
         "name": "index",
         "rawType": "int64",
         "type": "integer"
        },
        {
         "name": "Custo_Desejado",
         "rawType": "float64",
         "type": "float"
        },
        {
         "name": "Cidade_Destino",
         "rawType": "object",
         "type": "string"
        }
       ],
       "ref": "4a022c5e-8805-4680-9f98-cc6bd1a503bf",
       "rows": [
        [
         "29",
         "400000.0",
         "João Pessoa"
        ],
        [
         "150",
         "400000.0",
         "Porto Seguro"
        ],
        [
         "247",
         "400000.0",
         "Macapá"
        ],
        [
         "377",
         "400000.0",
         "João Pessoa"
        ],
        [
         "488",
         "400000.0",
         "Jericoacoara"
        ],
        [
         "529",
         "400000.0",
         "Jericoacoara"
        ],
        [
         "722",
         "400000.0",
         "Porto Seguro"
        ],
        [
         "744",
         "400000.0",
         "Campos do Jordão"
        ],
        [
         "765",
         "400000.0",
         "Macapá"
        ],
        [
         "771",
         "400000.0",
         "Porto Seguro"
        ],
        [
         "803",
         "400000.0",
         "Porto Seguro"
        ],
        [
         "823",
         "400000.0",
         "Jericoacoara"
        ],
        [
         "847",
         "400000.0",
         "Jericoacoara"
        ],
        [
         "977",
         "400000.0",
         "Balneário Camboriú"
        ],
        [
         "1022",
         "400000.0",
         "Macapá"
        ],
        [
         "1151",
         "400000.0",
         "Macapá"
        ],
        [
         "1163",
         "400000.0",
         "João Pessoa"
        ],
        [
         "1282",
         "400000.0",
         "Balneário Camboriú"
        ],
        [
         "1390",
         "400000.0",
         "Macapá"
        ],
        [
         "1435",
         "400000.0",
         "Campo Grande"
        ],
        [
         "1499",
         "400000.0",
         "Porto Seguro"
        ],
        [
         "1543",
         "400000.0",
         "Porto Seguro"
        ],
        [
         "1608",
         "400000.0",
         "João Pessoa"
        ],
        [
         "1707",
         "400000.0",
         "Gramado"
        ],
        [
         "1909",
         "400000.0",
         "Aracaju"
        ],
        [
         "1977",
         "400000.0",
         "Paraty"
        ],
        [
         "2013",
         "400000.0",
         "Jericoacoara"
        ],
        [
         "2051",
         "400000.0",
         "Macapá"
        ],
        [
         "2093",
         "400000.0",
         "Macapá"
        ],
        [
         "2113",
         "400000.0",
         "Balneário Camboriú"
        ],
        [
         "2127",
         "400000.0",
         "Macapá"
        ],
        [
         "2128",
         "400000.0",
         "Gramado"
        ],
        [
         "2178",
         "400000.0",
         "Porto Seguro"
        ],
        [
         "2227",
         "400000.0",
         "Aracaju"
        ],
        [
         "2307",
         "400000.0",
         "Paraty"
        ],
        [
         "2370",
         "400000.0",
         "Fernando de Noronha"
        ],
        [
         "2413",
         "400000.0",
         "Macapá"
        ],
        [
         "2597",
         "400000.0",
         "Jericoacoara"
        ],
        [
         "2724",
         "400000.0",
         "Fernando de Noronha"
        ],
        [
         "2740",
         "400000.0",
         "Macapá"
        ],
        [
         "2830",
         "400000.0",
         "Paraty"
        ],
        [
         "3041",
         "400000.0",
         "Aracaju"
        ],
        [
         "3061",
         "400000.0",
         "Balneário Camboriú"
        ],
        [
         "3243",
         "400000.0",
         "Balneário Camboriú"
        ],
        [
         "3353",
         "400000.0",
         "Porto Seguro"
        ],
        [
         "3429",
         "400000.0",
         "Jericoacoara"
        ],
        [
         "3432",
         "400000.0",
         "Balneário Camboriú"
        ],
        [
         "3652",
         "400000.0",
         "Balneário Camboriú"
        ],
        [
         "3657",
         "400000.0",
         "Jericoacoara"
        ],
        [
         "3664",
         "400000.0",
         "Jericoacoara"
        ]
       ],
       "shape": {
        "columns": 2,
        "rows": 250
       }
      },
      "text/html": [
       "<div>\n",
       "<style scoped>\n",
       "    .dataframe tbody tr th:only-of-type {\n",
       "        vertical-align: middle;\n",
       "    }\n",
       "\n",
       "    .dataframe tbody tr th {\n",
       "        vertical-align: top;\n",
       "    }\n",
       "\n",
       "    .dataframe thead th {\n",
       "        text-align: right;\n",
       "    }\n",
       "</style>\n",
       "<table border=\"1\" class=\"dataframe\">\n",
       "  <thead>\n",
       "    <tr style=\"text-align: right;\">\n",
       "      <th></th>\n",
       "      <th>Custo_Desejado</th>\n",
       "      <th>Cidade_Destino</th>\n",
       "    </tr>\n",
       "  </thead>\n",
       "  <tbody>\n",
       "    <tr>\n",
       "      <th>29</th>\n",
       "      <td>400000.0</td>\n",
       "      <td>João Pessoa</td>\n",
       "    </tr>\n",
       "    <tr>\n",
       "      <th>150</th>\n",
       "      <td>400000.0</td>\n",
       "      <td>Porto Seguro</td>\n",
       "    </tr>\n",
       "    <tr>\n",
       "      <th>247</th>\n",
       "      <td>400000.0</td>\n",
       "      <td>Macapá</td>\n",
       "    </tr>\n",
       "    <tr>\n",
       "      <th>377</th>\n",
       "      <td>400000.0</td>\n",
       "      <td>João Pessoa</td>\n",
       "    </tr>\n",
       "    <tr>\n",
       "      <th>488</th>\n",
       "      <td>400000.0</td>\n",
       "      <td>Jericoacoara</td>\n",
       "    </tr>\n",
       "    <tr>\n",
       "      <th>...</th>\n",
       "      <td>...</td>\n",
       "      <td>...</td>\n",
       "    </tr>\n",
       "    <tr>\n",
       "      <th>19636</th>\n",
       "      <td>400000.0</td>\n",
       "      <td>Macapá</td>\n",
       "    </tr>\n",
       "    <tr>\n",
       "      <th>19652</th>\n",
       "      <td>400000.0</td>\n",
       "      <td>Paraty</td>\n",
       "    </tr>\n",
       "    <tr>\n",
       "      <th>19866</th>\n",
       "      <td>400000.0</td>\n",
       "      <td>Jericoacoara</td>\n",
       "    </tr>\n",
       "    <tr>\n",
       "      <th>19916</th>\n",
       "      <td>400000.0</td>\n",
       "      <td>Porto Seguro</td>\n",
       "    </tr>\n",
       "    <tr>\n",
       "      <th>19989</th>\n",
       "      <td>400000.0</td>\n",
       "      <td>Campo Grande</td>\n",
       "    </tr>\n",
       "  </tbody>\n",
       "</table>\n",
       "<p>250 rows × 2 columns</p>\n",
       "</div>"
      ],
      "text/plain": [
       "       Custo_Desejado Cidade_Destino\n",
       "29           400000.0    João Pessoa\n",
       "150          400000.0   Porto Seguro\n",
       "247          400000.0         Macapá\n",
       "377          400000.0    João Pessoa\n",
       "488          400000.0   Jericoacoara\n",
       "...               ...            ...\n",
       "19636        400000.0         Macapá\n",
       "19652        400000.0         Paraty\n",
       "19866        400000.0   Jericoacoara\n",
       "19916        400000.0   Porto Seguro\n",
       "19989        400000.0   Campo Grande\n",
       "\n",
       "[250 rows x 2 columns]"
      ]
     },
     "execution_count": 97,
     "metadata": {},
     "output_type": "execute_result"
    }
   ],
   "source": [
    "df[df['Custo_Desejado'] > 50000][['Custo_Desejado', 'Cidade_Destino']]"
   ]
  },
  {
   "cell_type": "code",
   "execution_count": 98,
   "id": "c6caa085",
   "metadata": {},
   "outputs": [],
   "source": [
    "df = handle_outliers_by_target(df, 'Custo_Desejado', hard_lim_sup=50000)"
   ]
  },
  {
   "cell_type": "code",
   "execution_count": 99,
   "id": "ea034f76",
   "metadata": {},
   "outputs": [
    {
     "data": {
      "application/vnd.microsoft.datawrangler.viewer.v0+json": {
       "columns": [
        {
         "name": "index",
         "rawType": "int64",
         "type": "integer"
        },
        {
         "name": "Custo_Desejado",
         "rawType": "float64",
         "type": "float"
        },
        {
         "name": "Cidade_Destino",
         "rawType": "object",
         "type": "string"
        }
       ],
       "ref": "8a8368f7-8cfc-41f2-b3e2-fd3e5c66355e",
       "rows": [],
       "shape": {
        "columns": 2,
        "rows": 0
       }
      },
      "text/html": [
       "<div>\n",
       "<style scoped>\n",
       "    .dataframe tbody tr th:only-of-type {\n",
       "        vertical-align: middle;\n",
       "    }\n",
       "\n",
       "    .dataframe tbody tr th {\n",
       "        vertical-align: top;\n",
       "    }\n",
       "\n",
       "    .dataframe thead th {\n",
       "        text-align: right;\n",
       "    }\n",
       "</style>\n",
       "<table border=\"1\" class=\"dataframe\">\n",
       "  <thead>\n",
       "    <tr style=\"text-align: right;\">\n",
       "      <th></th>\n",
       "      <th>Custo_Desejado</th>\n",
       "      <th>Cidade_Destino</th>\n",
       "    </tr>\n",
       "  </thead>\n",
       "  <tbody>\n",
       "  </tbody>\n",
       "</table>\n",
       "</div>"
      ],
      "text/plain": [
       "Empty DataFrame\n",
       "Columns: [Custo_Desejado, Cidade_Destino]\n",
       "Index: []"
      ]
     },
     "execution_count": 99,
     "metadata": {},
     "output_type": "execute_result"
    }
   ],
   "source": [
    "df[df['Custo_Desejado'] > 50000][['Custo_Desejado', 'Cidade_Destino']]"
   ]
  },
  {
   "cell_type": "code",
   "execution_count": 100,
   "id": "309d529e",
   "metadata": {},
   "outputs": [
    {
     "data": {
      "image/png": "[encoded data removed]",
      "text/plain": [
       "<Figure size 1200x600 with 1 Axes>"
      ]
     },
     "metadata": {},
     "output_type": "display_data"
    }
   ],
   "source": [
    "plt.figure(figsize=(12, 6))\n",
    "sns.boxplot(data=df, x=\"Custo_Desejado\", y=\"Cidade_Destino\")\n",
    "plt.title(\"Boxplot de Custo_Desejado após tratamento de outliers\")\n",
    "plt.show()"
   ]
  },
  {
   "cell_type": "markdown",
   "id": "15609912",
   "metadata": {},
   "source": [
    "## Tratamento de Dados Nulos"
   ]
  },
  {
   "cell_type": "code",
   "execution_count": 101,
   "id": "64bcc72a",
   "metadata": {},
   "outputs": [
    {
     "data": {
      "application/vnd.microsoft.datawrangler.viewer.v0+json": {
       "columns": [
        {
         "name": "index",
         "rawType": "object",
         "type": "string"
        },
        {
         "name": "0",
         "rawType": "int64",
         "type": "integer"
        }
       ],
       "ref": "930d30e4-447e-4425-8ae4-71691e23c8e6",
       "rows": [
        [
         "Idade",
         "497"
        ],
        [
         "Cidade_Origem",
         "0"
        ],
        [
         "Custo_Desejado",
         "497"
        ],
        [
         "Prefere_Praia",
         "400"
        ],
        [
         "Prefere_Natureza",
         "400"
        ],
        [
         "Prefere_Cultura",
         "0"
        ],
        [
         "Prefere_Festas",
         "400"
        ],
        [
         "Prefere_Gastronomia",
         "400"
        ],
        [
         "Prefere_Compras",
         "0"
        ],
        [
         "Cidade_Destino",
         "0"
        ]
       ],
       "shape": {
        "columns": 1,
        "rows": 10
       }
      },
      "text/plain": [
       "Idade                  497\n",
       "Cidade_Origem            0\n",
       "Custo_Desejado         497\n",
       "Prefere_Praia          400\n",
       "Prefere_Natureza       400\n",
       "Prefere_Cultura          0\n",
       "Prefere_Festas         400\n",
       "Prefere_Gastronomia    400\n",
       "Prefere_Compras          0\n",
       "Cidade_Destino           0\n",
       "dtype: int64"
      ]
     },
     "execution_count": 101,
     "metadata": {},
     "output_type": "execute_result"
    }
   ],
   "source": [
    "# Contagem de valores nulos depois de tratamento de outliers\n",
    "df.isnull().sum()"
   ]
  },
  {
   "cell_type": "code",
   "execution_count": 102,
   "id": "1b43a938",
   "metadata": {},
   "outputs": [
    {
     "name": "stdout",
     "output_type": "stream",
     "text": [
      "Coluna Prefere_Praia: valor mais comum = 5, frequência = 3996\n",
      "Coluna Prefere_Natureza: valor mais comum = 5, frequência = 3960\n",
      "Coluna Prefere_Cultura: valor mais comum = 5, frequência = 4341\n",
      "Coluna Prefere_Festas: valor mais comum = 4, frequência = 3966\n",
      "Coluna Prefere_Gastronomia: valor mais comum = 2, frequência = 3981\n",
      "Coluna Prefere_Compras: valor mais comum = 5, frequência = 4317\n"
     ]
    }
   ],
   "source": [
    "for col in cols_prefere:\n",
    "    mais_frequente = df[col].mode().iloc[0]\n",
    "    frequencia = df[col].value_counts().iloc[0]\n",
    "    print(f\"Coluna {col}: valor mais comum = {mais_frequente}, frequência = {frequencia}\")"
   ]
  },
  {
   "cell_type": "code",
   "execution_count": null,
   "id": "f19cda42",
   "metadata": {},
   "outputs": [],
   "source": [
    "def fillna_by_target(df, column, method='mean', default_value=5):\n",
    "    # Filtra os registros com dados nulos na coluna especificada\n",
    "    null_values = df[df[column].isnull()]\n",
    "\n",
    "    # Cria um dataframe vazio para concatenar os dados tratados\n",
    "    null_values_filled = pd.DataFrame()\n",
    "    \n",
    "    for city in df['Cidade_Destino'].unique():\n",
    "        df_city_data = df[df['Cidade_Destino'] == city]\n",
    "\n",
    "        # Calcula o valor de preenchimento\n",
    "        if method == 'mean':\n",
    "            mean_value = df_city_data[column].mean()\n",
    "            fill_value = int(mean_value) if pd.notna(mean_value) else default_value\n",
    "\n",
    "        elif method == 'mode':\n",
    "            mode_series = df_city_data[column].mode()\n",
    "            if not mode_series.empty and pd.notna(mode_series.iloc[0]):\n",
    "                fill_value = mode_series.iloc[0]\n",
    "            else:\n",
    "                mean_value = df_city_data[column].mean()\n",
    "                fill_value = int(mean_value) if pd.notna(mean_value) else default_value\n",
    "        else:\n",
    "            raise ValueError(\"method deve ser 'mean' ou 'mode'\")\n",
    "\n",
    "        # Filtra os registros nulos da cidade (faz uma cópia explícita)\n",
    "        null_values_city_data = null_values[null_values['Cidade_Destino'] == city].copy()\n",
    "\n",
    "        # Preenche os valores nulos\n",
    "        null_values_city_data[column] = null_values_city_data[column].fillna(fill_value)\n",
    "\n",
    "        # Concatena os dados tratados\n",
    "        null_values_filled = pd.concat([null_values_filled, null_values_city_data], axis=0)\n",
    "\n",
    "    # Remove os registros nulos originais\n",
    "    df = df.drop(null_values.index, axis=0)\n",
    "\n",
    "    # Adiciona os tratados e ordena\n",
    "    df = pd.concat([df, null_values_filled], axis=0).sort_index()\n",
    "\n",
    "    return df"
   ]
  },
  {
   "cell_type": "code",
   "execution_count": 104,
   "id": "6670714b",
   "metadata": {},
   "outputs": [],
   "source": [
    "df = fillna_by_target(df, 'Idade', 'mean')"
   ]
  },
  {
   "cell_type": "code",
   "execution_count": 105,
   "id": "c2527cd3",
   "metadata": {},
   "outputs": [],
   "source": [
    "df = fillna_by_target(df, 'Custo_Desejado', 'mean')"
   ]
  },
  {
   "cell_type": "code",
   "execution_count": 106,
   "id": "3b72da2e",
   "metadata": {},
   "outputs": [],
   "source": [
    "df = fillna_by_target(df, 'Prefere_Praia', 'mode')"
   ]
  },
  {
   "cell_type": "code",
   "execution_count": 107,
   "id": "a3b48dfd",
   "metadata": {},
   "outputs": [],
   "source": [
    "df = fillna_by_target(df, 'Prefere_Natureza', 'mode')"
   ]
  },
  {
   "cell_type": "code",
   "execution_count": null,
   "id": "e2b325b8",
   "metadata": {},
   "outputs": [],
   "source": [
    "df = fillna_by_target(df, 'Prefere_Festas', 'mode')"
   ]
  },
  {
   "cell_type": "code",
   "execution_count": null,
   "id": "7302dbc6",
   "metadata": {},
   "outputs": [],
   "source": [
    "df = fillna_by_target(df, 'Prefere_Gastronomia', 'mode')"
   ]
  },
  {
   "cell_type": "code",
   "execution_count": null,
   "id": "69c6ab45",
   "metadata": {},
   "outputs": [],
   "source": [
    "df = fillna_by_target(df, 'Prefere_Compras', 'mode')"
   ]
  },
  {
   "cell_type": "code",
   "execution_count": null,
   "id": "a1d9409f",
   "metadata": {},
   "outputs": [],
   "source": [
    "df = fillna_by_target(df, 'Prefere_Cultura', 'mode')"
   ]
  },
  {
   "cell_type": "code",
   "execution_count": 110,
   "id": "fe747e1a",
   "metadata": {},
   "outputs": [
    {
     "name": "stdout",
     "output_type": "stream",
     "text": [
      "\n",
      "Frequência em 'Prefere_Praia':\n",
      "Prefere_Praia\n",
      "5    4251\n",
      "1    3983\n",
      "3    3944\n",
      "2    3944\n",
      "4    3878\n",
      "Name: count, dtype: Int64\n",
      "\n",
      "Frequência em 'Prefere_Natureza':\n",
      "Prefere_Natureza\n",
      "5    4079\n",
      "1    4073\n",
      "3    3961\n",
      "4    3950\n",
      "2    3937\n",
      "Name: count, dtype: Int64\n",
      "\n",
      "Frequência em 'Prefere_Cultura':\n",
      "Prefere_Cultura\n",
      "5    4341\n",
      "2    4016\n",
      "3    3889\n",
      "1    3885\n",
      "4    3869\n",
      "Name: count, dtype: Int64\n",
      "\n",
      "Frequência em 'Prefere_Festas':\n",
      "Prefere_Festas\n",
      "1    4142\n",
      "5    4045\n",
      "4    3970\n",
      "3    3926\n",
      "2    3917\n",
      "Name: count, dtype: Int64\n",
      "\n",
      "Frequência em 'Prefere_Gastronomia':\n",
      "Prefere_Gastronomia\n",
      "5    4107\n",
      "1    4073\n",
      "2    3981\n",
      "4    3923\n",
      "3    3916\n",
      "Name: count, dtype: Int64\n",
      "\n",
      "Frequência em 'Prefere_Compras':\n",
      "Prefere_Compras\n",
      "5    4317\n",
      "2    4026\n",
      "4    3944\n",
      "3    3876\n",
      "1    3837\n",
      "Name: count, dtype: Int64\n"
     ]
    }
   ],
   "source": [
    "for col in cols_prefere:\n",
    "    print(f\"\\nFrequência em '{col}':\")\n",
    "    print(df[col].value_counts(dropna=False))"
   ]
  },
  {
   "cell_type": "code",
   "execution_count": 111,
   "id": "a623b321",
   "metadata": {},
   "outputs": [
    {
     "data": {
      "application/vnd.microsoft.datawrangler.viewer.v0+json": {
       "columns": [
        {
         "name": "index",
         "rawType": "object",
         "type": "string"
        },
        {
         "name": "0",
         "rawType": "int64",
         "type": "integer"
        }
       ],
       "ref": "5987a882-5e75-4292-8edf-846b91277ce0",
       "rows": [
        [
         "Idade",
         "0"
        ],
        [
         "Cidade_Origem",
         "0"
        ],
        [
         "Custo_Desejado",
         "0"
        ],
        [
         "Prefere_Praia",
         "0"
        ],
        [
         "Prefere_Natureza",
         "0"
        ],
        [
         "Prefere_Cultura",
         "0"
        ],
        [
         "Prefere_Festas",
         "0"
        ],
        [
         "Prefere_Gastronomia",
         "0"
        ],
        [
         "Prefere_Compras",
         "0"
        ],
        [
         "Cidade_Destino",
         "0"
        ]
       ],
       "shape": {
        "columns": 1,
        "rows": 10
       }
      },
      "text/plain": [
       "Idade                  0\n",
       "Cidade_Origem          0\n",
       "Custo_Desejado         0\n",
       "Prefere_Praia          0\n",
       "Prefere_Natureza       0\n",
       "Prefere_Cultura        0\n",
       "Prefere_Festas         0\n",
       "Prefere_Gastronomia    0\n",
       "Prefere_Compras        0\n",
       "Cidade_Destino         0\n",
       "dtype: int64"
      ]
     },
     "execution_count": 111,
     "metadata": {},
     "output_type": "execute_result"
    }
   ],
   "source": [
    "df.isnull().sum()"
   ]
  },
  {
   "cell_type": "markdown",
   "id": "9aafebe3",
   "metadata": {},
   "source": [
    "## Tratamento das Classes Alvo"
   ]
  },
  {
   "cell_type": "code",
   "execution_count": 112,
   "id": "17438f73",
   "metadata": {},
   "outputs": [
    {
     "data": {
      "application/vnd.microsoft.datawrangler.viewer.v0+json": {
       "columns": [
        {
         "name": "Cidade_Destino",
         "rawType": "object",
         "type": "string"
        },
        {
         "name": "count",
         "rawType": "int64",
         "type": "integer"
        }
       ],
       "ref": "469d0dc0-5e18-483e-a63b-51ebda9b1256",
       "rows": [
        [
         "Macapá",
         "3910"
        ],
        [
         "Porto Seguro",
         "3449"
        ],
        [
         "Paraty",
         "2945"
        ],
        [
         "Balneário Camboriú",
         "1957"
        ],
        [
         "João Pessoa",
         "1749"
        ],
        [
         "Jericoacoara",
         "1661"
        ],
        [
         "Aracaju",
         "1450"
        ],
        [
         "Campo Grande",
         "982"
        ],
        [
         "Gramado",
         "620"
        ],
        [
         "Fernando de Noronha",
         "479"
        ],
        [
         "Campos do Jordão",
         "390"
        ],
        [
         "Foz do Iguaçu",
         "90"
        ],
        [
         "Fortaleza",
         "86"
        ],
        [
         "Petrópolis",
         "61"
        ],
        [
         "Porto Alegre",
         "43"
        ],
        [
         "Belém",
         "37"
        ],
        [
         "Belo Horizonte",
         "26"
        ],
        [
         "Rio Branco",
         "19"
        ],
        [
         "São Paulo",
         "15"
        ],
        [
         "Boa Vista",
         "11"
        ],
        [
         "Tiradentes",
         "6"
        ],
        [
         "Vitória",
         "5"
        ],
        [
         "Ouro Preto",
         "4"
        ],
        [
         "Cuiabá",
         "2"
        ],
        [
         "Salvador",
         "2"
        ],
        [
         "Bonito",
         "1"
        ]
       ],
       "shape": {
        "columns": 1,
        "rows": 26
       }
      },
      "text/plain": [
       "Cidade_Destino\n",
       "Macapá                 3910\n",
       "Porto Seguro           3449\n",
       "Paraty                 2945\n",
       "Balneário Camboriú     1957\n",
       "João Pessoa            1749\n",
       "Jericoacoara           1661\n",
       "Aracaju                1450\n",
       "Campo Grande            982\n",
       "Gramado                 620\n",
       "Fernando de Noronha     479\n",
       "Campos do Jordão        390\n",
       "Foz do Iguaçu            90\n",
       "Fortaleza                86\n",
       "Petrópolis               61\n",
       "Porto Alegre             43\n",
       "Belém                    37\n",
       "Belo Horizonte           26\n",
       "Rio Branco               19\n",
       "São Paulo                15\n",
       "Boa Vista                11\n",
       "Tiradentes                6\n",
       "Vitória                   5\n",
       "Ouro Preto                4\n",
       "Cuiabá                    2\n",
       "Salvador                  2\n",
       "Bonito                    1\n",
       "Name: count, dtype: int64"
      ]
     },
     "execution_count": 112,
     "metadata": {},
     "output_type": "execute_result"
    }
   ],
   "source": [
    "df['Cidade_Destino'].value_counts()"
   ]
  },
  {
   "cell_type": "code",
   "execution_count": null,
   "id": "4d417a06",
   "metadata": {},
   "outputs": [],
   "source": [
    "for city in df['Cidade_Destino'].unique():\n",
    "    city_data = df[df['Cidade_Destino'] == city].copy()  \n",
    "    rows = city_data.shape[0]\n",
    "    if rows < 100:\n",
    "        city_data.loc[:, 'Cidade_Destino'] = 'Outros Destino'\n",
    "        df.drop(city_data.index, axis=0, inplace=True)\n",
    "        df = pd.concat([df, city_data], axis=0)"
   ]
  },
  {
   "cell_type": "code",
   "execution_count": null,
   "id": "12f90ea2",
   "metadata": {},
   "outputs": [
    {
     "data": {
      "application/vnd.microsoft.datawrangler.viewer.v0+json": {
       "columns": [
        {
         "name": "Cidade_Destino",
         "rawType": "object",
         "type": "string"
        },
        {
         "name": "count",
         "rawType": "int64",
         "type": "integer"
        }
       ],
       "ref": "03007c4a-ca3c-4d02-85be-b80f684973da",
       "rows": [
        [
         "Macapá",
         "3910"
        ],
        [
         "Porto Seguro",
         "3449"
        ],
        [
         "Paraty",
         "2945"
        ],
        [
         "Balneário Camboriú",
         "1957"
        ],
        [
         "João Pessoa",
         "1749"
        ],
        [
         "Jericoacoara",
         "1661"
        ],
        [
         "Aracaju",
         "1450"
        ],
        [
         "Campo Grande",
         "982"
        ],
        [
         "Gramado",
         "620"
        ],
        [
         "Fernando de Noronha",
         "479"
        ],
        [
         "Outros Destino",
         "408"
        ],
        [
         "Campos do Jordão",
         "390"
        ]
       ],
       "shape": {
        "columns": 1,
        "rows": 12
       }
      },
      "text/plain": [
       "Cidade_Destino\n",
       "Macapá                 3910\n",
       "Porto Seguro           3449\n",
       "Paraty                 2945\n",
       "Balneário Camboriú     1957\n",
       "João Pessoa            1749\n",
       "Jericoacoara           1661\n",
       "Aracaju                1450\n",
       "Campo Grande            982\n",
       "Gramado                 620\n",
       "Fernando de Noronha     479\n",
       "Outros Destino          408\n",
       "Campos do Jordão        390\n",
       "Name: count, dtype: int64"
      ]
     },
     "execution_count": 114,
     "metadata": {},
     "output_type": "execute_result"
    }
   ],
   "source": [
    "df['Cidade_Destino'].value_counts()"
   ]
  },
  {
   "cell_type": "markdown",
   "id": "e22e721c",
   "metadata": {},
   "source": [
    "## Balanceamento de Classes"
   ]
  },
  {
   "cell_type": "code",
   "execution_count": null,
   "id": "6c1d1cf5",
   "metadata": {},
   "outputs": [
    {
     "name": "stdout",
     "output_type": "stream",
     "text": [
      "Distribuição após oversampling:\n",
      "Cidade_Destino\n",
      "Macapá                 3910\n",
      "Outros Destino         3910\n",
      "João Pessoa            3910\n",
      "Gramado                3910\n",
      "Campos do Jordão       3910\n",
      "Balneário Camboriú     3910\n",
      "Jericoacoara           3910\n",
      "Paraty                 3910\n",
      "Fernando de Noronha    3910\n",
      "Aracaju                3910\n",
      "Campo Grande           3910\n",
      "Porto Seguro           3910\n",
      "Name: count, dtype: int64\n"
     ]
    }
   ],
   "source": [
    "from sklearn.utils import resample\n",
    "\n",
    "# Separar a variável alvo\n",
    "target = \"Cidade_Destino\"\n",
    "\n",
    "# Dividir em classes\n",
    "df_majority = df[df[target] == df[target].value_counts().idxmax()]  # classe majoritária\n",
    "max_size = df[target].value_counts().max()\n",
    "\n",
    "# DataFrame final balanceado\n",
    "df_balanced = pd.DataFrame()\n",
    "\n",
    "for classe, subset in df.groupby(target):\n",
    "    # Repete as classes minoritárias até atingir a quantidade da classe majoritária\n",
    "    df_upsampled = resample(\n",
    "        subset,\n",
    "        replace=True,           # permite repetição\n",
    "        n_samples=max_size,     # iguala ao tamanho da classe majoritária\n",
    "        random_state=42\n",
    "    )\n",
    "    df_balanced = pd.concat([df_balanced, df_upsampled])\n",
    "\n",
    "# Embaralhar\n",
    "df_balanced = df_balanced.sample(frac=1, random_state=42).reset_index(drop=True)\n",
    "\n",
    "print(\"Distribuição após oversampling:\")\n",
    "print(df_balanced[target].value_counts())"
   ]
  },
  {
   "cell_type": "markdown",
   "id": "1aec478b",
   "metadata": {},
   "source": [
    "## Label encoder"
   ]
  },
  {
   "cell_type": "code",
   "execution_count": 116,
   "id": "e73ecff4",
   "metadata": {},
   "outputs": [],
   "source": [
    "label_encoder = LabelEncoder()\n",
    "\n",
    "df['Cidade_Destino'] = label_encoder.fit_transform(df['Cidade_Destino'])\n",
    "cidades_originais = label_encoder.inverse_transform(df['Cidade_Destino'])"
   ]
  }
 ],
 "metadata": {
  "kernelspec": {
   "display_name": "venv",
   "language": "python",
   "name": "python3"
  },
  "language_info": {
   "codemirror_mode": {
    "name": "ipython",
    "version": 3
   },
   "file_extension": ".py",
   "mimetype": "text/x-python",
   "name": "python",
   "nbconvert_exporter": "python",
   "pygments_lexer": "ipython3",
   "version": "3.12.11"
  }
 },
 "nbformat": 4,
 "nbformat_minor": 5
}
