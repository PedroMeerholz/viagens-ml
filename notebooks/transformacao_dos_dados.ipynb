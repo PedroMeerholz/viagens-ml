{
 "cells": [
  {
   "cell_type": "markdown",
   "id": "d9ece46f",
   "metadata": {},
   "source": [
    "# Ambiente"
   ]
  },
  {
   "cell_type": "code",
   "execution_count": 265,
   "id": "37032ce9",
   "metadata": {},
   "outputs": [],
   "source": [
    "import pandas as pd\n",
    "import numpy as np\n",
    "import matplotlib.pyplot as plt\n",
    "import seaborn as sns\n",
    "from sklearn.preprocessing import LabelEncoder"
   ]
  },
  {
   "cell_type": "markdown",
   "id": "3da43ab6",
   "metadata": {},
   "source": [
    "# Carregamento dos Dados"
   ]
  },
  {
   "cell_type": "code",
   "execution_count": 266,
   "id": "ab01cfdc",
   "metadata": {},
   "outputs": [],
   "source": [
    "# Carregar o dataset enviado\n",
    "df = pd.read_csv('https://viagens-ml.s3.sa-east-1.amazonaws.com/dataset_viagens_brasil.csv')"
   ]
  },
  {
   "cell_type": "code",
   "execution_count": 267,
   "id": "50cac30d",
   "metadata": {},
   "outputs": [
    {
     "data": {
      "application/vnd.microsoft.datawrangler.viewer.v0+json": {
       "columns": [
        {
         "name": "index",
         "rawType": "int64",
         "type": "integer"
        },
        {
         "name": "Idade",
         "rawType": "float64",
         "type": "float"
        },
        {
         "name": "Cidade_Origem",
         "rawType": "object",
         "type": "string"
        },
        {
         "name": "Custo_Desejado",
         "rawType": "float64",
         "type": "float"
        },
        {
         "name": "Prefere_Praia",
         "rawType": "object",
         "type": "string"
        },
        {
         "name": "Prefere_Natureza",
         "rawType": "float64",
         "type": "float"
        },
        {
         "name": "Prefere_Cultura",
         "rawType": "object",
         "type": "string"
        },
        {
         "name": "Prefere_Festas",
         "rawType": "float64",
         "type": "float"
        },
        {
         "name": "Prefere_Gastronomia",
         "rawType": "float64",
         "type": "float"
        },
        {
         "name": "Prefere_Compras",
         "rawType": "object",
         "type": "string"
        },
        {
         "name": "Cidade_Destino",
         "rawType": "object",
         "type": "string"
        }
       ],
       "ref": "1fff938b-d7dc-4a2b-b81c-de02d609a69e",
       "rows": [
        [
         "0",
         "23.0",
         "Campo Grande",
         "9000.0",
         "4",
         "3.0",
         "1",
         "5.0",
         "1.0",
         "3",
         "Porto Seguro"
        ],
        [
         "1",
         "33.0",
         "Rio Branco",
         null,
         "4",
         "5.0",
         "3",
         "5.0",
         "5.0",
         "5",
         "Balneário Camboriú"
        ],
        [
         "2",
         "46.0",
         "Rio Branco",
         "2900.0",
         "5",
         "4.0",
         "5",
         "4.0",
         "2.0",
         "2",
         "Porto Seguro"
        ],
        [
         "3",
         "20.0",
         "São Luís",
         "2900.0",
         "5",
         "3.0",
         "4",
         "3.0",
         "5.0",
         "4",
         "Porto Seguro"
        ],
        [
         "4",
         "37.0",
         "Teresina",
         "1700.0",
         "3",
         "3.0",
         "4",
         "2.0",
         "1.0",
         "1",
         "Fernando de Noronha"
        ]
       ],
       "shape": {
        "columns": 10,
        "rows": 5
       }
      },
      "text/html": [
       "<div>\n",
       "<style scoped>\n",
       "    .dataframe tbody tr th:only-of-type {\n",
       "        vertical-align: middle;\n",
       "    }\n",
       "\n",
       "    .dataframe tbody tr th {\n",
       "        vertical-align: top;\n",
       "    }\n",
       "\n",
       "    .dataframe thead th {\n",
       "        text-align: right;\n",
       "    }\n",
       "</style>\n",
       "<table border=\"1\" class=\"dataframe\">\n",
       "  <thead>\n",
       "    <tr style=\"text-align: right;\">\n",
       "      <th></th>\n",
       "      <th>Idade</th>\n",
       "      <th>Cidade_Origem</th>\n",
       "      <th>Custo_Desejado</th>\n",
       "      <th>Prefere_Praia</th>\n",
       "      <th>Prefere_Natureza</th>\n",
       "      <th>Prefere_Cultura</th>\n",
       "      <th>Prefere_Festas</th>\n",
       "      <th>Prefere_Gastronomia</th>\n",
       "      <th>Prefere_Compras</th>\n",
       "      <th>Cidade_Destino</th>\n",
       "    </tr>\n",
       "  </thead>\n",
       "  <tbody>\n",
       "    <tr>\n",
       "      <th>0</th>\n",
       "      <td>23.0</td>\n",
       "      <td>Campo Grande</td>\n",
       "      <td>9000.0</td>\n",
       "      <td>4</td>\n",
       "      <td>3.0</td>\n",
       "      <td>1</td>\n",
       "      <td>5.0</td>\n",
       "      <td>1.0</td>\n",
       "      <td>3</td>\n",
       "      <td>Porto Seguro</td>\n",
       "    </tr>\n",
       "    <tr>\n",
       "      <th>1</th>\n",
       "      <td>33.0</td>\n",
       "      <td>Rio Branco</td>\n",
       "      <td>NaN</td>\n",
       "      <td>4</td>\n",
       "      <td>5.0</td>\n",
       "      <td>3</td>\n",
       "      <td>5.0</td>\n",
       "      <td>5.0</td>\n",
       "      <td>5</td>\n",
       "      <td>Balneário Camboriú</td>\n",
       "    </tr>\n",
       "    <tr>\n",
       "      <th>2</th>\n",
       "      <td>46.0</td>\n",
       "      <td>Rio Branco</td>\n",
       "      <td>2900.0</td>\n",
       "      <td>5</td>\n",
       "      <td>4.0</td>\n",
       "      <td>5</td>\n",
       "      <td>4.0</td>\n",
       "      <td>2.0</td>\n",
       "      <td>2</td>\n",
       "      <td>Porto Seguro</td>\n",
       "    </tr>\n",
       "    <tr>\n",
       "      <th>3</th>\n",
       "      <td>20.0</td>\n",
       "      <td>São Luís</td>\n",
       "      <td>2900.0</td>\n",
       "      <td>5</td>\n",
       "      <td>3.0</td>\n",
       "      <td>4</td>\n",
       "      <td>3.0</td>\n",
       "      <td>5.0</td>\n",
       "      <td>4</td>\n",
       "      <td>Porto Seguro</td>\n",
       "    </tr>\n",
       "    <tr>\n",
       "      <th>4</th>\n",
       "      <td>37.0</td>\n",
       "      <td>Teresina</td>\n",
       "      <td>1700.0</td>\n",
       "      <td>3</td>\n",
       "      <td>3.0</td>\n",
       "      <td>4</td>\n",
       "      <td>2.0</td>\n",
       "      <td>1.0</td>\n",
       "      <td>1</td>\n",
       "      <td>Fernando de Noronha</td>\n",
       "    </tr>\n",
       "  </tbody>\n",
       "</table>\n",
       "</div>"
      ],
      "text/plain": [
       "   Idade Cidade_Origem  Custo_Desejado Prefere_Praia  Prefere_Natureza  \\\n",
       "0   23.0  Campo Grande          9000.0             4               3.0   \n",
       "1   33.0    Rio Branco             NaN             4               5.0   \n",
       "2   46.0    Rio Branco          2900.0             5               4.0   \n",
       "3   20.0      São Luís          2900.0             5               3.0   \n",
       "4   37.0      Teresina          1700.0             3               3.0   \n",
       "\n",
       "  Prefere_Cultura  Prefere_Festas  Prefere_Gastronomia Prefere_Compras  \\\n",
       "0               1             5.0                  1.0               3   \n",
       "1               3             5.0                  5.0               5   \n",
       "2               5             4.0                  2.0               2   \n",
       "3               4             3.0                  5.0               4   \n",
       "4               4             2.0                  1.0               1   \n",
       "\n",
       "        Cidade_Destino  \n",
       "0         Porto Seguro  \n",
       "1   Balneário Camboriú  \n",
       "2         Porto Seguro  \n",
       "3         Porto Seguro  \n",
       "4  Fernando de Noronha  "
      ]
     },
     "execution_count": 267,
     "metadata": {},
     "output_type": "execute_result"
    }
   ],
   "source": [
    "df.head()"
   ]
  },
  {
   "cell_type": "code",
   "execution_count": 268,
   "id": "d5cee1f7",
   "metadata": {},
   "outputs": [
    {
     "name": "stdout",
     "output_type": "stream",
     "text": [
      "Idade                  float64\n",
      "Cidade_Origem           object\n",
      "Custo_Desejado         float64\n",
      "Prefere_Praia           object\n",
      "Prefere_Natureza       float64\n",
      "Prefere_Cultura         object\n",
      "Prefere_Festas         float64\n",
      "Prefere_Gastronomia    float64\n",
      "Prefere_Compras         object\n",
      "Cidade_Destino          object\n",
      "dtype: object\n"
     ]
    }
   ],
   "source": [
    "# Tipos Antes de Tratamento de Valores Sabotados\n",
    "print(df.dtypes)"
   ]
  },
  {
   "cell_type": "code",
   "execution_count": 269,
   "id": "0a06e448",
   "metadata": {},
   "outputs": [
    {
     "name": "stdout",
     "output_type": "stream",
     "text": [
      "Valores nulos por coluna:\n",
      "Idade                  497\n",
      "Cidade_Origem            0\n",
      "Custo_Desejado         497\n",
      "Prefere_Praia            0\n",
      "Prefere_Natureza       400\n",
      "Prefere_Cultura          0\n",
      "Prefere_Festas         400\n",
      "Prefere_Gastronomia    400\n",
      "Prefere_Compras          0\n",
      "Cidade_Destino           0\n",
      "dtype: int64\n"
     ]
    }
   ],
   "source": [
    "print(\"Valores nulos por coluna:\")\n",
    "print(df.isnull().sum())"
   ]
  },
  {
   "cell_type": "markdown",
   "id": "34b9514c",
   "metadata": {},
   "source": [
    "### O QUE FOR NULL NAS 5 COLUNAS ARRANCA FORA"
   ]
  },
  {
   "cell_type": "markdown",
   "id": "74dccb93",
   "metadata": {},
   "source": [
    "# Tratamento de Valores Sabotados"
   ]
  },
  {
   "cell_type": "code",
   "execution_count": 270,
   "id": "07abbf8d",
   "metadata": {},
   "outputs": [
    {
     "name": "stdout",
     "output_type": "stream",
     "text": [
      "Valores únicos em 'Idade':\n",
      "[ 23.  33.  46.  20.  37.  53.  36.  43.  49.  24.  69.  58.  50.  57.\n",
      "  56.  35. 190.  28.  45.  42.  67.  40.  48.  47.  59.  52.  nan  65.\n",
      "  66.  19.  18.  29.  22.  54.  26.  41.  25.  55.  63.  21.  31.  38.\n",
      "  34.  39.  62.  68.  44.  51.  64.  61.  70.  60.  30.  32.  27.]\n",
      "----\n",
      "Valores únicos em 'Cidade_Origem':\n",
      "['Campo Grande' 'Rio Branco' 'São Luís' 'Teresina' 'João Pessoa' 'Maceió'\n",
      " 'Recife' 'Vitória' 'Porto Velho' 'Aracaju' 'Goiânia' 'Porto Alegre'\n",
      " 'Natal' 'Cuiabá' 'Fortaleza' 'Florianópolis' 'Belém' 'Brasília'\n",
      " 'Boa Vista' 'Curitiba' 'Rio de Janeiro' 'Macapá' 'Manaus' 'São Paulo'\n",
      " 'Palmas' 'Salvador' 'Belo Horizonte']\n",
      "----\n",
      "Valores únicos em 'Custo_Desejado':\n",
      "[  9000.     nan   2900.   1700.   7100.   2200.   5200.   4400.   3500.\n",
      "   3100.   9400.   5700.  10300.   2800.   4900.   2500.   9600.   5800.\n",
      "   3400.  15200.   3200.   1300.   5100. 400000.   7000.   3000.  11000.\n",
      "  11900.   2700.   3800.   4600.   5400.   6200.  12100.   4000.   5300.\n",
      "   2400.   1200.   2600.  14200.   6100.  10700.   8700.   4700.   6800.\n",
      "   4300.   3700.  10500.   3900.   1400.   6600.   7300.   4100.  11200.\n",
      "   1800.  12700.   9200.   4800.   3300.   2100.   8500.   6000.   5900.\n",
      "   6700.   8300.   2300.   7600.   4200.   7400.   4500.   5500.   6400.\n",
      "   3600.   5000.  10900.   7500.   2000.   7800.   8100.   6300.   8900.\n",
      "   7700.   8600.   6500.   6900.   5600.   9700.   9100.   7900.   1100.\n",
      "   8800.  10600.  13800.   8200.   9900.   1500.   1600.   9800.  16700.\n",
      "  13500.  18600.  13000.  15100.  10400.  10200.  15000.   9500.   9300.\n",
      "  16000.  10000.  15300.  10800.  19200.  10100.   8000.   1900.  11700.\n",
      "  14300.   7200.  20000.  11800.  14600.   8400.  11400.  12000.  12800.\n",
      "  14000.  17300.  13100.  11300.  16300.  14700.  14900.  11600.  16500.\n",
      "  12500.  11500.  14100.  11100.  13900.  16100.  18400.  13600.  13700.\n",
      "  18100.  12600.  13400.  15600.  12300.  13200.  12400.   1000.  14800.\n",
      "  12900.  14400.  17200.  15800.  16200.  16800.  19100.  17400.  13300.\n",
      "  19700.  17500.  12200.  18500.  15700.  15900.  15500.  16600.  17000.\n",
      "  18800.  17600.  17800.  18200.  19300.  15400.  17900.  17100.  18000.\n",
      "  14500.  16900.  17700.  16400.  18300.  19500.  19600.]\n",
      "----\n",
      "Valores únicos em 'Prefere_Praia':\n",
      "['4' '5' '3' '2' '1' 'erro']\n",
      "----\n",
      "Valores únicos em 'Prefere_Natureza':\n",
      "[ 3.  5.  4.  1.  2. nan]\n",
      "----\n",
      "Valores únicos em 'Prefere_Cultura':\n",
      "['1' '3' '5' '4' '2' 'cinco']\n",
      "----\n",
      "Valores únicos em 'Prefere_Festas':\n",
      "[ 5.  4.  3.  2.  1. nan]\n",
      "----\n",
      "Valores únicos em 'Prefere_Gastronomia':\n",
      "[ 1.  5.  2.  4.  3. nan]\n",
      "----\n",
      "Valores únicos em 'Prefere_Compras':\n",
      "['3' '5' '2' '4' '1' 'cinco']\n",
      "----\n",
      "Valores únicos em 'Cidade_Destino':\n",
      "['Porto Seguro' 'Balneário Camboriú' 'Fernando de Noronha' 'João Pessoa'\n",
      " 'Jericoacoara' 'Macapá' 'Aracaju' 'Gramado' 'Campo Grande' 'Paraty'\n",
      " 'Campos do Jordão' 'Porto Alegre' 'Petrópolis' 'Boa Vista' 'Belém'\n",
      " 'Foz do Iguaçu' 'Fortaleza' 'Belo Horizonte' 'São Paulo' 'Tiradentes'\n",
      " 'Rio Branco' 'Cuiabá' 'Ouro Preto' 'Vitória' 'Salvador' 'Bonito']\n",
      "----\n"
     ]
    }
   ],
   "source": [
    "for col in df.columns:\n",
    "    print(f\"Valores únicos em '{col}':\")\n",
    "    print(df[col].unique())\n",
    "    print(\"----\")"
   ]
  },
  {
   "cell_type": "markdown",
   "id": "3369eddf",
   "metadata": {},
   "source": [
    "### Tratamento de Valores Sabotados nas Colunas `Prefere_`"
   ]
  },
  {
   "cell_type": "code",
   "execution_count": 271,
   "id": "c90e6323",
   "metadata": {},
   "outputs": [
    {
     "name": "stdout",
     "output_type": "stream",
     "text": [
      "Prefere_Praia: int32, valores únicos: [4 5 3 2 1]\n",
      "Prefere_Natureza: int32, valores únicos: [3 5 4 1 2]\n",
      "Prefere_Cultura: int32, valores únicos: [1 3 5 4 2]\n",
      "Prefere_Festas: int32, valores únicos: [5 4 3 2 1]\n",
      "Prefere_Gastronomia: int32, valores únicos: [1 5 2 4 3]\n",
      "Prefere_Compras: int32, valores únicos: [3 5 2 4 1]\n"
     ]
    }
   ],
   "source": [
    "# Gera a lista de colunas que começam com \"Prefere_\"\n",
    "cols_prefere = [col for col in df.columns if col.startswith(\"Prefere_\")]\n",
    "\n",
    "for col in cols_prefere:\n",
    "    # substitui \"cinco\" por 5 e \"erro\" por NaN\n",
    "    df[col] = df[col].replace({'cinco': '5', 'erro': np.nan})\n",
    "\n",
    "    # Converte para numérico (garante que '1', '2'... virem inteiros)\n",
    "    df[col] = pd.to_numeric(df[col], errors='coerce')\n",
    "\n",
    "    # Preenche NaNs com a mediana da coluna\n",
    "    df[col] = df[col].fillna(df[col].median())\n",
    "\n",
    "    # Converte para inteiro\n",
    "    df[col] = df[col].astype('int32')\n",
    "\n",
    "    # Mostra tipo final e valores únicos\n",
    "    print(f\"{col}: {df[col].dtype}, valores únicos: {df[col].unique()}\")"
   ]
  },
  {
   "cell_type": "markdown",
   "id": "225cd050",
   "metadata": {},
   "source": [
    "### Transformação de Tipo de Dados nas Colunas `Cidade_Origem` e `Cidade_Destino` "
   ]
  },
  {
   "cell_type": "code",
   "execution_count": 272,
   "id": "8a4678ee",
   "metadata": {},
   "outputs": [],
   "source": [
    "le_cidade_destino = LabelEncoder()\n",
    "\n",
    "df['Cidade_Destino'] = le_cidade_destino.fit_transform(df['Cidade_Destino'])\n",
    "cidades_originais = le_cidade_destino.inverse_transform(df['Cidade_Destino'])"
   ]
  },
  {
   "cell_type": "markdown",
   "id": "9746d87c",
   "metadata": {},
   "source": [
    "# Tratamento de Valores Nulos"
   ]
  },
  {
   "cell_type": "code",
   "execution_count": 273,
   "id": "e440dc3e",
   "metadata": {},
   "outputs": [
    {
     "name": "stdout",
     "output_type": "stream",
     "text": [
      "Valores nulos por coluna:\n",
      "Idade                  497\n",
      "Cidade_Origem            0\n",
      "Custo_Desejado         497\n",
      "Prefere_Praia            0\n",
      "Prefere_Natureza         0\n",
      "Prefere_Cultura          0\n",
      "Prefere_Festas           0\n",
      "Prefere_Gastronomia      0\n",
      "Prefere_Compras          0\n",
      "Cidade_Destino           0\n",
      "dtype: int64\n"
     ]
    }
   ],
   "source": [
    "print(\"Valores nulos por coluna:\")\n",
    "print(df.isnull().sum())"
   ]
  },
  {
   "cell_type": "code",
   "execution_count": 274,
   "id": "7cf6426a",
   "metadata": {},
   "outputs": [
    {
     "name": "stdout",
     "output_type": "stream",
     "text": [
      "Linhas com Idade e Custo_Desejado nulos ao mesmo tempo: 16\n"
     ]
    }
   ],
   "source": [
    "# Verifica se os nulos de Idade e Custo_Desejado coincidem\n",
    "nulos_idade = df[\"Idade\"].isnull()\n",
    "nulos_custo = df[\"Custo_Desejado\"].isnull()\n",
    "\n",
    "# Linhas com ambos nulos\n",
    "linhas_ambos = df[nulos_idade & nulos_custo]\n",
    "print(\"Linhas com Idade e Custo_Desejado nulos ao mesmo tempo:\", linhas_ambos.shape[0])"
   ]
  },
  {
   "cell_type": "code",
   "execution_count": 275,
   "id": "814cd882",
   "metadata": {},
   "outputs": [],
   "source": [
    "# Remover linhas com ambas colunas nulas\n",
    "df = df[~(df[\"Idade\"].isnull() & df[\"Custo_Desejado\"].isnull())]"
   ]
  },
  {
   "cell_type": "code",
   "execution_count": 276,
   "id": "8eeb7775",
   "metadata": {},
   "outputs": [
    {
     "name": "stdout",
     "output_type": "stream",
     "text": [
      "Valores nulos por coluna após tratamento:\n",
      "Idade                  0\n",
      "Cidade_Origem          0\n",
      "Custo_Desejado         0\n",
      "Prefere_Praia          0\n",
      "Prefere_Natureza       0\n",
      "Prefere_Cultura        0\n",
      "Prefere_Festas         0\n",
      "Prefere_Gastronomia    0\n",
      "Prefere_Compras        0\n",
      "Cidade_Destino         0\n",
      "dtype: int64\n"
     ]
    }
   ],
   "source": [
    "# Preencher os nulos restantes com mediana de cada coluna\n",
    "df[\"Idade\"] = df[\"Idade\"].fillna(df[\"Idade\"].median())\n",
    "df[\"Custo_Desejado\"] = df[\"Custo_Desejado\"].fillna(df[\"Custo_Desejado\"].median())\n",
    "\n",
    "# Verificação final\n",
    "print(\"Valores nulos por coluna após tratamento:\")\n",
    "print(df.isnull().sum())"
   ]
  },
  {
   "cell_type": "markdown",
   "id": "daec2300",
   "metadata": {},
   "source": [
    "# Tratamento de Outliers"
   ]
  },
  {
   "cell_type": "code",
   "execution_count": 277,
   "id": "dce2765f",
   "metadata": {},
   "outputs": [
    {
     "data": {
      "image/png": "[encoded data removed]",
      "text/plain": [
       "<Figure size 600x300 with 1 Axes>"
      ]
     },
     "metadata": {},
     "output_type": "display_data"
    },
    {
     "data": {
      "image/png": "[encoded data removed]",
      "text/plain": [
       "<Figure size 600x300 with 1 Axes>"
      ]
     },
     "metadata": {},
     "output_type": "display_data"
    },
    {
     "data": {
      "image/png": "[encoded data removed]",
      "text/plain": [
       "<Figure size 600x300 with 1 Axes>"
      ]
     },
     "metadata": {},
     "output_type": "display_data"
    }
   ],
   "source": [
    "for col in df.select_dtypes(include=['float64', 'int64']).columns:\n",
    "    plt.figure(figsize=(6, 3))\n",
    "    sns.boxplot(x=df[col])\n",
    "    plt.title(f\"Boxplot de {col}\")\n",
    "    plt.show()"
   ]
  },
  {
   "cell_type": "markdown",
   "id": "f1381727",
   "metadata": {},
   "source": [
    "### SUBSTITUIR 2 PONTOS DE OUTLIERS POR MÉDIA"
   ]
  },
  {
   "cell_type": "markdown",
   "id": "9aafebe3",
   "metadata": {},
   "source": [
    "### BALANCEAMENTO DA CLASSE ALVO"
   ]
  }
 ],
 "metadata": {
  "kernelspec": {
   "display_name": "venv (3.13.7)",
   "language": "python",
   "name": "python3"
  },
  "language_info": {
   "codemirror_mode": {
    "name": "ipython",
    "version": 3
   },
   "file_extension": ".py",
   "mimetype": "text/x-python",
   "name": "python",
   "nbconvert_exporter": "python",
   "pygments_lexer": "ipython3",
   "version": "3.13.7"
  }
 },
 "nbformat": 4,
 "nbformat_minor": 5
}
